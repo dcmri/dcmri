{
  "cells": [
    {
      "cell_type": "markdown",
      "metadata": {},
      "source": [
        "\n# Clinical - rifampicin induced inhibition (short protocol)\n\nThis example illustrates the use of `~dcmri.AortaLiver` for joint fitting of \naorta and liver signals to a whole-body model. The use case is provided by the \nliver work package of the \n[TRISTAN project](https://www.imi-tristan.eu/liver)  which develops imaging \nbiomarkers for drug safety assessment. The data and analysis was first \npresented at the ISMRM in 2024 (Min et al 2024, manuscript in press). \n\nThe data were acquired in the aorta and liver of 10 healthy volunteers with \ndynamic gadoxetate-enhanced MRI, before and after administration of a drug \n(rifampicin) which is known to inhibit liver function. The assessments were \ndone on two separate visits at least 2 weeks apart. \n\nThe research question was to what extent rifampicin inhibits gadoxetate uptake \nrate from the extracellular space into the liver hepatocytes \n(khe, mL/min/100mL) and excretion rate from hepatocytes to bile \n(kbh, mL/100mL/min). \n\n2 of the volunteers only had the baseline assessment, the other 8 volunteers \ncompleted the full study. The results showed consistent and strong inhibition \nof khe (95%) and kbh (40%) by rifampicin. This implies that rifampicin poses \na risk of drug-drug interactions (DDI), meaning it can cause another drug to \ncirculate in the body for far longer than expected, potentially causing harm \nor raising a need for dose adjustment.\n\n**Note**: this example is different to the 2 scan example of the same study \nin that this uses only the first scan to fit the model. \n\nReference\n--------- \n\nThazin Min, Marta Tibiletti, Paul Hockings, Aleksandra Galetin, Ebony Gunwhy, \nGerry Kenna, Nicola Melillo, Geoff JM Parker, Gunnar Schuetz, Daniel Scotcher, \nJohn Waterton, Ian Rowe, and Steven Sourbron. *Measurement of liver function \nwith dynamic gadoxetate-enhanced MRI: a validation study in healthy \nvolunteers*. Proc Intl Soc Mag Reson Med, Singapore 2024.\n"
      ]
    },
    {
      "cell_type": "markdown",
      "metadata": {},
      "source": [
        "## Setup\n\n"
      ]
    },
    {
      "cell_type": "code",
      "execution_count": null,
      "metadata": {
        "collapsed": false
      },
      "outputs": [],
      "source": [
        "# Import packages\nimport pandas as pd\nimport matplotlib.pyplot as plt\nimport pydmr\nimport dcmri as dc\n\n# Fetch the data from the TRISTAN rifampicin study:\ndmrfile = dc.fetch('tristan_humans_healthy_rifampicin')\ndata = pydmr.read(dmrfile, 'nest')\nrois, pars = data['rois'], data['pars']"
      ]
    },
    {
      "cell_type": "markdown",
      "metadata": {},
      "source": [
        "## Model definition\nIn order to avoid some repetition in this script, we define a function \nthat returns a trained model for a single dataset:\n\n"
      ]
    },
    {
      "cell_type": "code",
      "execution_count": null,
      "metadata": {
        "collapsed": false
      },
      "outputs": [],
      "source": [
        "def tristan_human_1scan(roi, par, **kwargs):\n\n    model = dc.AortaLiver(\n\n        # Injection parameters\n        weight = par['weight'],\n        agent = 'gadoxetate',\n        dose = par['dose_1'],\n        rate = 1,\n\n        # Acquisition parameters\n        field_strength = 3,\n        t0 = par['t0'],\n        TR = par['TR'],\n        FA = par['FA_1'],\n        TS = roi['time_1'][1]-roi['time_1'][0],\n\n        # Signal parameters\n        R10a = 1/par['T1_aorta_1'],\n        R10l = 1/par['T1_liver_1'],\n\n        # Tissue parameters\n        vol = par['liver_volume'],\n    )\n\n    xdata = (\n        roi['time_1'][roi['aorta_1_accept']] - roi['time_1'][0], \n        roi['time_1'][roi['liver_1_accept']] - roi['time_1'][0],\n    )\n    ydata = (\n        roi['aorta_1'][roi['aorta_1_accept']], \n        roi['liver_1'][roi['liver_1_accept']],\n    )\n\n    model.train(xdata, ydata, **kwargs)\n\n    return xdata, ydata, model"
      ]
    },
    {
      "cell_type": "markdown",
      "metadata": {},
      "source": [
        "## Check model fit\nBefore running the full analysis on all cases, lets illustrate the results \nby fitting the baseline visit for the first subject. We use maximum \nverbosity to get some feedback about the iterations: \n\n"
      ]
    },
    {
      "cell_type": "code",
      "execution_count": null,
      "metadata": {
        "collapsed": false
      },
      "outputs": [],
      "source": [
        "xdata, ydata, model = tristan_human_1scan(\n    rois['001']['control'], \n    pars['001']['control'],\n    xtol=1e-3, \n    verbose=2,\n)"
      ]
    },
    {
      "cell_type": "markdown",
      "metadata": {},
      "source": [
        "Plot the results to check that the model has fitted the data. The plot also \nshows the concentration in the two liver compartments separately:\n\n"
      ]
    },
    {
      "cell_type": "code",
      "execution_count": null,
      "metadata": {
        "collapsed": false
      },
      "outputs": [],
      "source": [
        "model.plot(xdata, ydata)"
      ]
    },
    {
      "cell_type": "markdown",
      "metadata": {},
      "source": [
        "Print the measured model parameters and any derived parameters. Standard \ndeviations are included as a measure of parameter uncertainty, indicate \nthat all parameters are identified robustly:\n\n"
      ]
    },
    {
      "cell_type": "code",
      "execution_count": null,
      "metadata": {
        "collapsed": false
      },
      "outputs": [],
      "source": [
        "model.print_params(round_to=3)"
      ]
    },
    {
      "cell_type": "markdown",
      "metadata": {},
      "source": [
        "## Fit all data\nNow that we have illustrated an individual result in some detail, we proceed \nwith fitting the data for all 10 volunteers, at baseline and rifampicin \nvisit. We do not print output for these individual computations and instead \nstore results in one single dataframe:\n\n"
      ]
    },
    {
      "cell_type": "code",
      "execution_count": null,
      "metadata": {
        "collapsed": false
      },
      "outputs": [],
      "source": [
        "results = []\n\n# Loop over all datasets\nfor subj in rois.keys():\n    for visit in rois[subj].keys():\n\n        roi = rois[subj][visit]\n        par = pars[subj][visit]\n\n        # Generate a trained model for the scan:\n        _, _, model = tristan_human_1scan(roi, par, xtol=1e-3)\n\n        # Export fitted parameters as lists\n        rows = model.export_params(type='list')\n\n        # Add study, visit and subject info\n        rows = [row + [visit, subj] for row in rows]\n\n        # Add to the list of all results\n        results += rows\n\n# Combine all results into a single dataframe.\ncols = ['parameter', 'name', 'value', 'unit', 'stdev',\n        'visit', 'subject']\nresults = pd.DataFrame(results, columns=cols)\n\n# Print all results\nprint(results.to_string())"
      ]
    },
    {
      "cell_type": "markdown",
      "metadata": {},
      "source": [
        "## Plot individual results\nNow lets visualise the main results from the study by plotting the drug \neffect for all volunteers, and for both biomarkers: uptake rate ``khe`` \nand excretion rate ``kbh``:\n\n"
      ]
    },
    {
      "cell_type": "code",
      "execution_count": null,
      "metadata": {
        "collapsed": false
      },
      "outputs": [],
      "source": [
        "# Set up the figure\nclr = ['tab:blue', 'tab:orange', 'tab:green', 'tab:red', 'tab:purple', \n       'tab:brown', 'tab:pink', 'tab:gray', 'tab:olive', 'tab:cyan']\nfs = 10\nfig, (ax1, ax2) = plt.subplots(1, 2, figsize=(8,3))\nfig.subplots_adjust(wspace=0.5)\nax1.set_title('Hepatocellular uptake rate', fontsize=fs, pad=10)\nax1.set_ylabel('khe (mL/min/100mL)', fontsize=fs)\nax1.set_ylim(0, 60)\nax1.tick_params(axis='x', labelsize=fs)\nax1.tick_params(axis='y', labelsize=fs)\nax2.set_title('Biliary excretion rate', fontsize=fs, pad=10)\nax2.set_ylabel('kbh (mL/min/100mL)', fontsize=fs)\nax2.set_ylim(0, 6)\nax2.tick_params(axis='x', labelsize=fs)\nax2.tick_params(axis='y', labelsize=fs)\n\n# Pivot data for both visits to wide format for easy access:\nv1 = pd.pivot_table(results[results.visit=='control'], values='value', \n                    columns='parameter', index='subject')\nv2 = pd.pivot_table(results[results.visit=='drug'], values='value', \n                    columns='parameter', index='subject')\n\n# Plot the rate constants in units of mL/min/100mL\nfor s in v1.index:\n    x = ['baseline']\n    khe = [6000*v1.at[s,'khe']]\n    kbh = [6000*v1.at[s,'kbh']] \n    if s in v2.index:\n        x += ['rifampicin']\n        khe += [6000*v2.at[s,'khe']]\n        kbh += [6000*v2.at[s,'kbh']] \n    color = clr[int(s)-1]\n    ax1.plot(x, khe, '-', label=s, marker='o', markersize=6, color=color)\n    ax2.plot(x, kbh, '-', label=s, marker='o', markersize=6, color=color)\nplt.show()\n\n# Choose the last image as a thumbnail for the gallery\n# sphinx_gallery_thumbnail_number = -1"
      ]
    }
  ],
  "metadata": {
    "kernelspec": {
      "display_name": "Python 3",
      "language": "python",
      "name": "python3"
    },
    "language_info": {
      "codemirror_mode": {
        "name": "ipython",
        "version": 3
      },
      "file_extension": ".py",
      "mimetype": "text/x-python",
      "name": "python",
      "nbconvert_exporter": "python",
      "pygments_lexer": "ipython3",
      "version": "3.11.9"
    }
  },
  "nbformat": 4,
  "nbformat_minor": 0
}