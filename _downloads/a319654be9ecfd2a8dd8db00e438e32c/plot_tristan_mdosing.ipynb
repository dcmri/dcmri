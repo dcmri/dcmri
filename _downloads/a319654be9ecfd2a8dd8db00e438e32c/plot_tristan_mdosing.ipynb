{
  "cells": [
    {
      "cell_type": "markdown",
      "metadata": {},
      "source": [
        "\n# Preclinical - repeat dosing effects on liver function\n\n[Ebony Gunwhy](https://orcid.org/0000-0002-5608-9812).\n\nThis example illustrates the use of `~dcmri.Liver` for fitting of signals \nmeasured in liver. The use case is provided by the liver work package of the \n[TRISTAN project](https://www.imi-tristan.eu/liver)  which develops imaging \nbiomarkers for drug safety assessment. The manuscript relating to this data\nand analysis is currently in preparation. \n\nThe specific objective of the study was to investigate the potential of\ngadoxetate-enhanced DCE-MRI to study acute inhibition of hepatocyte\ntransporters of drug-induced liver injury (DILI) causing drugs, and to study\npotential changes in transporter function after chronic dosing.\n\nThe study presented here measured gadoxetate uptake and excretion in healthy \nrats scanned after administration of vehicle and repetitive dosing regimes\nof either Rifampicin, Cyclosporine, or Bosentan. Studies were performed in\npreclinical MRI scanners at 3 different centers and 2 different field strengths.\n\n**Reference**\n\nMikael Montelius, Steven Sourbron, Nicola Melillo, Daniel Scotcher, \nAleksandra Galetin, Gunnar Schuetz, Claudia Green, Edvin Johansson, \nJohn C. Waterton, and Paul Hockings. Acute and chronic rifampicin effect on \ngadoxetate uptake in rats using gadoxetate DCE-MRI. Int Soc Mag Reson Med \n2021; 2674.\n"
      ]
    },
    {
      "cell_type": "markdown",
      "metadata": {},
      "source": [
        "## Setup\n\n"
      ]
    },
    {
      "cell_type": "code",
      "execution_count": null,
      "metadata": {
        "collapsed": false
      },
      "outputs": [],
      "source": [
        "# Import packages\nimport pandas as pd\nimport numpy as np\nimport matplotlib.pyplot as plt\nimport seaborn as sns\nimport pydmr\nimport dcmri as dc\n\n# Fetch the data\ndmrfile = dc.fetch('tristan_rats_healthy_multiple_dosing')\ndmr = pydmr.read(dmrfile, 'nest')\nrois, pars = dmr['rois'], dmr['pars']"
      ]
    },
    {
      "cell_type": "markdown",
      "metadata": {},
      "source": [
        "## Model definition\nIn order to avoid some repetition in this script, we define a function that \nreturns a trained model for a single dataset. \n\nThe model uses a standardized, population-average input function and fits \nfor only 2 parameters, fixing all other free parameters to typical values \nfor this rat model:\n\n"
      ]
    },
    {
      "cell_type": "code",
      "execution_count": null,
      "metadata": {
        "collapsed": false
      },
      "outputs": [],
      "source": [
        "def tristan_rat(roi, par, **kwargs):\n\n    # High-resolution time points for prediction\n    t = np.arange(0, np.amax(roi['time'])+0.5, 0.5)\n\n    # Standard input function\n    ca = dc.aif_tristan_rat(t, BAT=par['BAT'], duration=par['duration'])\n\n    # Liver model with population input function\n    model = dc.Liver(\n\n        # Input parameters\n        t = t,\n        ca = ca,\n\n        # Acquisition parameters\n        field_strength = par['field_strength'],\n        TR = par['TR'],\n        FA = par['FA'],\n        n0 = par['n0'],\n\n        # Configure as in the TRISTAN-rat study \n        config = 'TRISTAN-rat',\n    )\n    return model.train(roi['time'], roi['liver'], **kwargs)"
      ]
    },
    {
      "cell_type": "markdown",
      "metadata": {},
      "source": [
        "## Check model fit\nBefore running the full analysis on all cases, lets illustrate the results \nby fitting the baseline visit for the first subject. We use maximum \nverbosity to get some feedback about the iterations: \n\n"
      ]
    },
    {
      "cell_type": "code",
      "execution_count": null,
      "metadata": {
        "collapsed": false
      },
      "outputs": [],
      "source": [
        "model = tristan_rat(\n    rois['S01-10']['Day_3'], \n    pars['S01-10']['Day_3'],\n    xtol=1e-3, \n    verbose=2,\n)"
      ]
    },
    {
      "cell_type": "markdown",
      "metadata": {},
      "source": [
        "Plot the results to check that the model has fitted the data:\n\n"
      ]
    },
    {
      "cell_type": "code",
      "execution_count": null,
      "metadata": {
        "collapsed": false
      },
      "outputs": [],
      "source": [
        "model.plot(\n    rois['S01-10']['Day_3']['time'], \n    rois['S01-10']['Day_3']['liver'],\n)"
      ]
    },
    {
      "cell_type": "markdown",
      "metadata": {},
      "source": [
        "Print the measured model parameters and any derived parameters and check \nthat standard deviations of measured parameters are small relative to the \nvalue, indicating that the parameters are measured reliably:\n\n"
      ]
    },
    {
      "cell_type": "code",
      "execution_count": null,
      "metadata": {
        "collapsed": false
      },
      "outputs": [],
      "source": [
        "model.print_params(round_to=3)"
      ]
    },
    {
      "cell_type": "markdown",
      "metadata": {},
      "source": [
        "## Fit all data\nNow that we have illustrated an individual result in some detail, we proceed \nwith fitting all the data. Results are stored in a dataframe in long format:\n\n"
      ]
    },
    {
      "cell_type": "code",
      "execution_count": null,
      "metadata": {
        "collapsed": false
      },
      "outputs": [],
      "source": [
        "results = []\n\n# Loop over all datasets\nfor subj in rois.keys():\n    for visit in rois[subj].keys():\n        \n        roi = rois[subj][visit]\n        par = pars[subj][visit]\n\n        # Generate a trained model\n        model = tristan_rat(roi, par, xtol=1e-3)\n        \n        # Export fitted parameters as lists\n        rows = model.export_params(type='list')\n\n        # Add study, visit and subject info\n        rows = [row + [par['study'], par['visit'], subj] for row in rows]\n\n        # Add to the list of all results\n        results += rows\n\n# Combine all results into a single dataframe.\ncols = ['parameter', 'name', 'value', 'unit', 'stdev', 'study',\n        'visit', 'subject']\nresults = pd.DataFrame(results, columns=cols)\n\n# Print all results\nprint(results.to_string())"
      ]
    },
    {
      "cell_type": "markdown",
      "metadata": {},
      "source": [
        "## Plot individual results\nNow let's plot the biomarker values across visits for each study group.\nFor this exercise, let's specify khe and kbh as the biomarker parameters that\nwe are interested in. For each subject, we can visualise the change in\nbiomarker values between visits. For reference, in the below plots, the\nstudies are numbered as follows:\nStudy 1: Rifampicin repetitive dosing regime\nStudy 2: Cyclosporine repetitive dosing regime\nStudy 3: Bosentan repetitive dosing regime\n\n"
      ]
    },
    {
      "cell_type": "code",
      "execution_count": null,
      "metadata": {
        "collapsed": false
      },
      "outputs": [],
      "source": [
        "# Customise plot settings\nplt.rcParams[\"axes.titlesize\"] = 25\nplt.rcParams[\"axes.labelsize\"] = 20\nplt.rcParams[\"axes.labelweight\"] = 'bold'\nplt.rcParams[\"axes.titleweight\"] = 'bold'\nplt.rcParams[\"font.weight\"] = 'bold'\nplt.rc('axes', linewidth=1.5)\nplt.rc('xtick', labelsize=15)\nplt.rc('ytick', labelsize=15)\nplt.rcParams[\"lines.linewidth\"] = 1.5\nplt.rcParams['lines.markersize'] = 2\n\n# Extract results of interest, i.e., for parameters khe and kbh\nfiltered_data = results.query(\"parameter == 'khe' | parameter == 'kbh'\")\n\n# Plot distributions across visits per study groups and per biomarker\ng = sns.catplot(data=filtered_data,\n                x='visit',\n                y='value',\n                palette='rocket',\n                hue='subject',\n                row='parameter',\n                col='study',\n                kind='point',\n                sharey=False)\n\ng.set_titles(pad=15) # increase white space between subplots and titles\n\n# Set limits for y-axes\nfor i in range(0, 3):\n    g.axes[0, i].set(ylim=([0, 0.05]))\n\nfor i in range(0, 3):\n    g.axes[1, i].set(ylim=([0, 0.005]))\n\ng.set_ylabels(\"Value [mL/sec/cm3]\") # set labels for y-axis\n\n# reposition legend\nsns.move_legend(g, \"lower right\", bbox_to_anchor=(0.95, 0.7))\n\nplt.tight_layout()\nplt.show()\n\n# Choose the last image as a thumbnail for the gallery\n# sphinx_gallery_thumbnail_number = -1"
      ]
    }
  ],
  "metadata": {
    "kernelspec": {
      "display_name": "Python 3",
      "language": "python",
      "name": "python3"
    },
    "language_info": {
      "codemirror_mode": {
        "name": "ipython",
        "version": 3
      },
      "file_extension": ".py",
      "mimetype": "text/x-python",
      "name": "python",
      "nbconvert_exporter": "python",
      "pygments_lexer": "ipython3",
      "version": "3.11.9"
    }
  },
  "nbformat": 4,
  "nbformat_minor": 0
}