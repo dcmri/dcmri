{
  "cells": [
    {
      "cell_type": "markdown",
      "metadata": {},
      "source": [
        "\n# Dealing with inflow effects\n\n[Nichlas Vous Christensen](https://www.au.dk/en/nvc@clin.au.dk), \n[Mohsen Redda](https://www.au.dk/en/au569527@biomed.au.dk), \n[Steven Sourbron](https://www.sheffield.ac.uk/smph/people/academic/clinical-medicine/steven-sourbron).\n\n## What are inflow effects?\nInflow effects in the arterial input function (AIF) are a common \ntype of artefact in DCE-MRI which severely biases the results if it \nis not properly acccounted for. The effect is caused by unsaturated \nblood flowing into the imaging slab causing an artefactual increase \nof the baseline signal. A naive analysis of inflow-corrupted data \nunderestimates the arterial concentration and consequently \noverestimates tissue perfusion parameters. \n\nInflow effects can be detected visually by \ninspecting a precontrast image. Since blood has a long T1, arteries \nshould be dark on a T1-weighted image. If they are instead \nbrighter than surrounding tissue, this is evidence of inflow effects. \nThe brightness typically shows a gradient with the vessel being \nbrightest at the edge of the slab where flow-induced enhancement is \nmost severe, then gradually darking as the blood travels down the slab \nand is pushed into steady-state by the excitation pulses. \n\n## Minimizing inflow effects\nThe most robust approach to dealing with inflow effects is by \neliminating them at the source, by optimizing the acquisition. In \nabdominal imaging this can often be achieved by positioning the slab \ncoronally and extending the field of view to include the heart. \n\nThis may not always be possible though, for instance for prostate imaging \nwhere the heart is too far from the region of interest. Even when it \nis technically possible, such as for liver or renal imaging, it may \nrequire compromises in other areas: the approach forbids axial \nimaging, which is sometimes preferred, and may also come at a cost of \nspatial resolution. \n\nOther approaches may be possible, such as \nincreasing the flip angle to accelerate transition to steady-state; \nbut this comes with other compromises such as increased tissue \nheating and reduced signal enhancement.\n\n## Correcting inflow effects\nIf inflow effects cannot be fully avoided by optimizing the \nacquisition, or data with inflow effects are analysed retrospectively, \nthe problem must be addressed at image analysis stage. \n\nOne approach \nthat has sometimes been applied is to measure the input function \ndeeper down in the slab where inflow effects have largely decayed. \nThis is not always feasible and may cause variability in result for \ninstance due to differences in blood velocity.\n\nThis tutorial illustrates two alternative approaches: using a \nstandardised input function rather than attempting to measure it; \nand correcting for inflow by adding flow-related enhancement in the \nsignal model.\n\nThe solutions are illustrated for the use case of MR renography in a \nminipig with unilateral kidney fibrosis. The data are taken from \nB\u00f8gh et al (2024).\n\n## Reference\nNikolaj B\u00f8gh, Lotte B Bertelsen, \nCamilla W Rasmussen, Sabrina K Bech, Anna K Keller, Mia G Madsen, \nFrederik Harving, Thomas H Thorsen, Ida K Mieritz, Esben Ss Hansen, \nAlkwin Wanders, Christoffer Laustsen. Metabolic MRI With \nHyperpolarized 13C-Pyruvate for Early Detection \nof Fibrogenic Kidney Metabolism. \n[[DOI](https://doi.org/10.1097/rli.0000000000001094)].\n"
      ]
    },
    {
      "cell_type": "markdown",
      "metadata": {},
      "source": [
        "## Setup\n\n"
      ]
    },
    {
      "cell_type": "code",
      "execution_count": null,
      "metadata": {
        "collapsed": false
      },
      "outputs": [],
      "source": [
        "# Import packages\nimport numpy as np\nimport matplotlib.pyplot as plt\nimport matplotlib.image as mpimg\nimport pydmr\nimport dcmri as dc\n\n# Read the dataset\ndmrfile = dc.fetch('minipig_renal_fibrosis')\ndata = pydmr.read(dmrfile, 'nest')\nrois, pars = data['rois']['Pig']['Test'], data['pars']['Pig']['Test']"
      ]
    },
    {
      "cell_type": "markdown",
      "metadata": {},
      "source": [
        "## Plot data\nLet's start by plotting the data:\n\n"
      ]
    },
    {
      "cell_type": "code",
      "execution_count": null,
      "metadata": {
        "collapsed": false
      },
      "outputs": [],
      "source": [
        "time = pars['TS'] * np.arange(len(rois['Aorta']))\nplt.plot(time, rois['Aorta'], 'r-', label='Aorta')\nplt.plot(time, rois['LeftKidney'], 'g-', label='LeftKidney')\nplt.plot(time, rois['RightKidney'], 'b-', label='RightKidney')\nplt.xlabel('Time (sec)')\nplt.ylabel('Signal (a.u.)')\nplt.legend()\nplt.show()"
      ]
    },
    {
      "cell_type": "markdown",
      "metadata": {},
      "source": [
        "We see a clear difference between left kidney (healthy) and right \nkidney (fibrotic). We also \nsee that the peak signal change in the aorta is similar to that in \nthe kidney. As peak aorta concentrations in pure blood are always \nsubstantially higher than those in tissue, this shows that \nsignal changes underestimate concentrations - consistent with the \neffect of inflow artefacts.\n\nVerification on the data confirms this suspicion: looking at a \nprecontrast slice through the aorta (below) we see that the aorta \nis bright compared to the surrounding tissue, and gradually becomes \ndarker as we move further down into the slab - this is the signature \nsign of inflow artefacts. \n\n"
      ]
    },
    {
      "cell_type": "code",
      "execution_count": null,
      "metadata": {
        "collapsed": false
      },
      "outputs": [],
      "source": [
        "img = mpimg.imread('../../source/_static/tutorial-inflow.png')\nplt.figure(figsize=(6, 4))\nplt.imshow(img)\nplt.axis(\"off\")\nplt.title(\"Baseline image\")\nplt.show()"
      ]
    },
    {
      "cell_type": "markdown",
      "metadata": {},
      "source": [
        "## Standard analysis\nIgnoring the inflow effects leads to significant bias in the \nresults. For the kidney \nthe most common modelling approach is implemented in the function \n`dcmri.Kidney`. Let's run it on the left kidney and see what we get:\n\n"
      ]
    },
    {
      "cell_type": "code",
      "execution_count": null,
      "metadata": {
        "collapsed": false
      },
      "outputs": [],
      "source": [
        "kidney = dc.Kidney(\n\n    # Configuration\n    aif=rois['Aorta'],\n    dt=pars['TS'],\n\n    # General parameters\n    field_strength=pars['B0'],\n    agent=\"gadoterate\",\n    t0=pars['TS'] * pars['n0'],\n\n    # Sequence parameters\n    TS=pars['TS'], \n    TR=pars['TR'],\n    FA=pars['FA'],\n\n    # Tissue parameters\n    R10=1/dc.T1(pars['B0'], 'kidney'),\n    R10a=1/dc.T1(pars['B0'], 'blood'),\n)\n\nkidney.train(time, rois['LeftKidney'])\nkidney.plot(time, rois['LeftKidney'])\nkidney.print_params(round_to=4)"
      ]
    },
    {
      "cell_type": "markdown",
      "metadata": {},
      "source": [
        "The model is not fitting the data because by default the model \nparameters are not allowed to enter into unphysical regimes. So \nthe model stops converging when they hit their bounds, as \ncan be seen from the plasma flow which converged to its upper \nbound of 0.05 mL/sec/cm3. \n\n"
      ]
    },
    {
      "cell_type": "markdown",
      "metadata": {},
      "source": [
        "If we free up the parameters then the model will fit, albeit\nwith unphysical values for the parameters:\n\n"
      ]
    },
    {
      "cell_type": "code",
      "execution_count": null,
      "metadata": {
        "collapsed": false
      },
      "outputs": [],
      "source": [
        "kidney.set_free(Fp=[0,np.inf], vp=[0,1], FF=[0,1])\nkidney.train(time, rois['LeftKidney'])\nkidney.plot(time, rois['LeftKidney'])\nkidney.print_params(round_to=4)"
      ]
    },
    {
      "cell_type": "markdown",
      "metadata": {},
      "source": [
        "The plasma flow now has a value of 1.2 mL/sec/cm3 or \n7200 mL/min/100cm3. This is around 40 times higher than what \nis realistic for a kidney - confirming the massive bias caused by \ninflow artefacts. This is separately evidenced by the peak \nconcentration around 0.8mM (right of plot) - substantially lower \nthan the values of 4-5mM that are typically seen after injection \nof a standard dose.\n\n"
      ]
    },
    {
      "cell_type": "markdown",
      "metadata": {},
      "source": [
        "## Using a standard input function\nOne approach that can always be considered if arterial \nconcentrations are not reliable is to use a modelled rather than a \nmeasured input function. \n\nThere are no input function models available for minipigs so \nour best option is to use one derived for humans and adjust the \nparameters. We will use the function `dcmri.aif_tristan` which is \nbuilt on a model of the circulation and thefore defined in terms \nof physiological parameters. \n\nWe set the cardiac output (CO) to a typical value for the \nminipig (3.6 L/min or 60 mL/sec). The bolus arrival time (BAT) can \nbe estimated from the \npeak of the aorta concentration - it does not have to be exact as the \nvalue is optimized in the fit. All other parameters are left at \ndefault values as no data exist for the minipig:\n\n"
      ]
    },
    {
      "cell_type": "code",
      "execution_count": null,
      "metadata": {
        "collapsed": false
      },
      "outputs": [],
      "source": [
        "dt = 0.25\nt = np.arange(0, np.amax(time) + dt, dt)  \nca = dc.aif_tristan(\n    t, \n    agent=\"gadoterate\",\n    dose=pars['dose'],\n    rate=pars['rate'],\n    weight=pars['weight'],\n    CO=60,\n    BAT=time[np.argmax(rois['Aorta'])] - 20,\n)"
      ]
    },
    {
      "cell_type": "markdown",
      "metadata": {},
      "source": [
        "Now we can use this fixed concentration as input in the kidney \nmodel instead of the measured aorta signal. Since the \nartery signal is not measured in the aorta we will allow the \narterial transit time to vary over a larger range than the default \nof [0, 3] sec:\n\n"
      ]
    },
    {
      "cell_type": "code",
      "execution_count": null,
      "metadata": {
        "collapsed": false
      },
      "outputs": [],
      "source": [
        "kidney = dc.Kidney(\n\n    # Configuration\n    ca=ca,\n    dt=dt,\n\n    # General parameters\n    field_strength=pars['B0'],\n    agent=\"gadoterate\",\n    t0=pars['TS'] * pars['n0'],\n\n    # Sequence parameters\n    TS=pars['TS'], \n    TR=pars['TR'],\n    FA=pars['FA'],\n\n    # Tissue parameters\n    R10=1/dc.T1(pars['B0'], 'kidney'),\n    R10a=1/dc.T1(pars['B0'], 'blood'),\n)\n\nkidney.set_free(Ta=[0,30])\nkidney.train(time, rois['LeftKidney'])\nkidney.plot(time, rois['LeftKidney'])\nkidney.print_params(round_to=4)"
      ]
    },
    {
      "cell_type": "markdown",
      "metadata": {},
      "source": [
        "This now fits a lot better without unphysical \nparameter values, but the plasma flow still hits the upper limit,\nand the fit remains poor - indicating the input function does not \nrepresent reality very well even after adapting the parameters.\n\n"
      ]
    },
    {
      "cell_type": "markdown",
      "metadata": {},
      "source": [
        "## Model-based inflow correction\nAn alternative solution is to fit an \naorta model to the data and use a signal model (SSI) that \naccounts for inflow effects. \n\nThe CO is set to the same values as for the modelled AIF above, \nbut here this serves as initial guess rather than a fixed \nparameter:\n\n"
      ]
    },
    {
      "cell_type": "code",
      "execution_count": null,
      "metadata": {
        "collapsed": false
      },
      "outputs": [],
      "source": [
        "aorta = dc.Aorta(\n\n    # Configuration\n    sequence='SSI',\n    heartlung='chain',\n    organs='comp',\n\n    # General parameters\n    dt=dt,\n    field_strength=pars['B0'],\n    t0=pars['TS']*pars['n0'],\n\n    # Injection protocol\n    agent=\"gadoterate\",\n    weight=pars['weight'],\n    dose=pars['dose'],\n    rate=pars['rate'],\n\n    # Sequence parameters\n    TR=pars['TR'],\n    FA=pars['FA'],\n    TS=pars['TS'],\n    \n    # Aorta parameters\n    CO=60, \n    R10=1/dc.T1(pars['B0'], 'blood'), \n)\n\naorta.train(time, rois['Aorta'])\naorta.plot(time, rois['Aorta'])\naorta.print_params(round_to=4)"
      ]
    },
    {
      "cell_type": "markdown",
      "metadata": {},
      "source": [
        "This produces a good fit to the data and also reasonable \nvalues for the parameters. A cardiac output of 73 mL/sec \nequates to 4.4 L/min, which is in the right range for a minipig. \nAlso a travel time of 280 msec (Inflow time) from heart to kidneys \nseems reasonable. The peak concentrations (right) are also in the \nexpected range for a standard injection (5mM). \n\n"
      ]
    },
    {
      "cell_type": "markdown",
      "metadata": {},
      "source": [
        "## Kidney model\nWe can now use the trained aorta model to generate \nconcentrations and use those as input for the kidney model, \ninstead of the modelled concentration:\n\n"
      ]
    },
    {
      "cell_type": "code",
      "execution_count": null,
      "metadata": {
        "collapsed": false
      },
      "outputs": [],
      "source": [
        "t, ca = aorta.conc() # get arterial concentrations\n\nkidney = dc.Kidney(\n\n    # Configuration\n    ca=ca,\n    t=t,\n\n    # General parameters\n    field_strength=pars['B0'],\n    agent=\"gadoterate\",\n    t0=pars['TS']*pars['n0'],\n\n    # Sequence parameters\n    TS=pars['TS'], \n    TR=pars['TR'],\n    FA=pars['FA'],\n\n    # Tissue parameters\n    R10=1/dc.T1(pars['B0'], 'kidney'),\n    R10a=1/dc.T1(pars['B0'], 'blood'),\n)\n\nkidney.train(time, rois['LeftKidney'])\nkidney.plot(time, rois['LeftKidney'])\nkidney.print_params(round_to=4)"
      ]
    },
    {
      "cell_type": "markdown",
      "metadata": {},
      "source": [
        "This now gives a good fit with reasonable values for all parameters. \nLet's run it on the right kidney as well so we can compare \nparameters:\n\n"
      ]
    },
    {
      "cell_type": "code",
      "execution_count": null,
      "metadata": {
        "collapsed": false
      },
      "outputs": [],
      "source": [
        "kidney.train(time, rois['RightKidney'])\nkidney.plot(time, rois['RightKidney'])\nkidney.print_params(round_to=4)"
      ]
    },
    {
      "cell_type": "markdown",
      "metadata": {},
      "source": [
        "The right (fibrotic) kidney now shows a substantially lower \nperfusion and function than the left. The perfusion of the left \nkidney has not hit the maximum value. It is still relatively high \n(Fp = 0.035 mL/sec/cm3 or 210 mL/min/100mL) but it is possible \nthat it is overcompensating to some extent for the damage on the \nright kidney.\n\n"
      ]
    },
    {
      "cell_type": "markdown",
      "metadata": {},
      "source": [
        "## Joint aorta-kidneys fit\nThe method above produces a good solution for these data, but if the \nvolumes of the kidneys are known this can be further refined \nby performing a joint fit of aorta and both kidneys. \n\nThis is not only more compact but should also be more robust \nas shared parameters can be eliminated and all data are accounted \nfor equally. In this example the volumes are not actually known, \nso for the purpose of illustration we use a typical value of \n85mL: \n\n"
      ]
    },
    {
      "cell_type": "code",
      "execution_count": null,
      "metadata": {
        "collapsed": false
      },
      "outputs": [],
      "source": [
        "aorta_kidneys = dc.AortaKidneys(\n\n    # Configuration\n    sequence='SSI',\n    heartlung='chain',\n    organs='comp',\n    agent=\"gadoterate\",\n\n    # General parameters\n    field_strength=pars['B0'],\n    t0=pars['TS']*pars['n0'], \n\n    # Injection protocol\n    weight=pars['weight'],\n    dose=pars['dose'],\n    rate=pars['rate'],\n\n    # Sequence parameters\n    TR=pars['TR'],\n    FA=pars['FA'],\n    TS=pars['TS'],\n\n    # Aorta parameters\n    CO=60,  \n    R10a=1/dc.T1(pars['B0'], 'blood'),\n\n    # Kidney parameters\n    vol_lk=85,\n    vol_rk=85,\n    R10_lk=1/dc.T1(pars['B0'], 'kidney'),\n    R10_rk=1/dc.T1(pars['B0'], 'kidney'),\n)\n\n# Define time and signal data\nt = (time, time, time)\nsignal = (rois['Aorta'], rois['LeftKidney'], rois['RightKidney'])\n\n# Train model and show result\naorta_kidneys.train(t, signal)\naorta_kidneys.plot(t, signal)\naorta_kidneys.print_params(round_to=4)"
      ]
    },
    {
      "cell_type": "markdown",
      "metadata": {},
      "source": [
        "This produces all results for aorta and kidneys in one go, which \nalso allows to derive some secondary parameters such as \ndifferential function which would otherwise have to be computed \nfrom separate results. Since the model uses the volumes this can \nalso automatically output important whole kidney parameters such \nas GFR and RPF. Numaerically the values are similar - though not \nidentical - to those produced from a separate Aorta and Kidneys fit.\n\n"
      ]
    }
  ],
  "metadata": {
    "kernelspec": {
      "display_name": "Python 3",
      "language": "python",
      "name": "python3"
    },
    "language_info": {
      "codemirror_mode": {
        "name": "ipython",
        "version": 3
      },
      "file_extension": ".py",
      "mimetype": "text/x-python",
      "name": "python",
      "nbconvert_exporter": "python",
      "pygments_lexer": "ipython3",
      "version": "3.11.9"
    }
  },
  "nbformat": 4,
  "nbformat_minor": 0
}