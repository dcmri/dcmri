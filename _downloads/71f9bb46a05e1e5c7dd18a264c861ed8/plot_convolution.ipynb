{
  "cells": [
    {
      "cell_type": "markdown",
      "metadata": {},
      "source": [
        "\n# A comparison of convolution functions\n\nConvolution is a key operation in any application of pharmacokinetic \nanalysis. The reason for this central role is that the solution of a linear \nand stationary system can always be written as a convolution. `dcmri` includes \nfunctions that \nperform convolution in the most general context, but also includes solutions \nthat are optimized for common special cases. \n\nThis tutorial illustrates the use of these functions and compares their \nperformance against other implementations.\n"
      ]
    },
    {
      "cell_type": "markdown",
      "metadata": {},
      "source": [
        "## Setup\nImport the necessary packages\n\n"
      ]
    },
    {
      "cell_type": "code",
      "execution_count": null,
      "metadata": {
        "collapsed": false
      },
      "outputs": [],
      "source": [
        "import time\nimport numpy as np\nfrom scipy.stats import norm\nimport matplotlib.pyplot as plt\nimport dcmri as dc"
      ]
    },
    {
      "cell_type": "markdown",
      "metadata": {},
      "source": [
        "## Convolving any two functions\nThere are different definitions possible for the convolution product, and \nthey are not necessarily interchangeable. We illustrate this here by \nconvolving two functions with `~dcmri.conv` and comparing the result to \na naive application of `numpy.convolve`. For the purposes of this \nillustration we will convolve normalized gaussian distributions f(t) and \nh(t):\n\n"
      ]
    },
    {
      "cell_type": "code",
      "execution_count": null,
      "metadata": {
        "collapsed": false
      },
      "outputs": [],
      "source": [
        "# Generate some gaussian data\nt = np.linspace(0, 100, 50)\nf = norm.pdf(t, 30, 5)\nh = norm.pdf(t, 60, 10)\n\n# Convolve them in two different ways:\ng = dc.conv(h, f, t)\ng1 = np.convolve(h, f, mode='same')\n\n# Show the data and their convolutions\nplt.plot(t, f, 'r-', label='f(t)')\nplt.plot(t, h, 'b-', label='h(t)')\nplt.plot(t, g, 'k-', label='dcmri.conv')\nplt.plot(g1, 'k:', label='numpy.convolve')\nplt.title('Convolution of two gaussian distributions')\nplt.legend()\nplt.show()"
      ]
    },
    {
      "cell_type": "markdown",
      "metadata": {},
      "source": [
        "While there is clearly some relation between both results, they are not in \nany way similar. The `~numpy.convolve` result is shifted compared to \n`~dcmri.conv` and has a lower amplitude. This shows that caution is needed \nwhen applying convolution formulae from different libraries in a \ntracer-kinetic setting.\n\n"
      ]
    },
    {
      "cell_type": "markdown",
      "metadata": {},
      "source": [
        "## Convolution with an exponential\nThe generic function `~dcmri.conv` applies to any two functions, but is \nuneccesarily slow in special cases where the functional form of the \nfactors is known. An example is the case where one of the \nfactors is an exponential function - a very common scenario in \npharmacokinetics. In that case the function `~dcmri.expconv` can be used: \n\n"
      ]
    },
    {
      "cell_type": "code",
      "execution_count": null,
      "metadata": {
        "collapsed": false
      },
      "outputs": [],
      "source": [
        "# Convolve the Gaussian with an exponential explicitly:\nTf = 20\nf = np.exp(-t/Tf)/Tf\ng0 = dc.conv(h, f, t)\n\n# Now convolve the same data again using the expconv function:\ng1 = dc.expconv(h, Tf, t)\n\n# Compare the two results on the same plot:\nplt.plot(t, f, 'r-', label='f(t)')\nplt.plot(t, h, 'b-', label='h(t)')\nplt.plot(t, g0, label='conv()', linewidth=6, color='lightgray', linestyle='-')\nplt.plot(t, g1, 'k-', label='expconv()')\nplt.title('Comparison of conv() and expconv()')\nplt.legend()\nplt.show()"
      ]
    },
    {
      "cell_type": "markdown",
      "metadata": {},
      "source": [
        "The result shows that the difference in accuracy between `~dcmri.expconv` \nand `~dcmri.conv` is negligible at higher time resolution. \nHowever, `~dcmri.expconv` comes with a major improvement in computation \ntime. We illustrate the effect by \napplying the functions 500 times and measuring the total computation time \nin each case:\n\n"
      ]
    },
    {
      "cell_type": "code",
      "execution_count": null,
      "metadata": {
        "collapsed": false
      },
      "outputs": [],
      "source": [
        "# Print the duration of 500 runs of conv:\nstart = time.time()\nfor _ in range(500):\n    dc.conv(h, f, t)\nprint('Computation time for conv(): ', time.time()-start, 'sec')\n\n# Print the duration of 500 runs of expconv:\nstart = time.time()\nfor _ in range(500):\n    dc.expconv(h, Tf, t)\nprint('Computation time for expconv(): ', time.time()-start, 'sec')"
      ]
    },
    {
      "cell_type": "markdown",
      "metadata": {},
      "source": [
        "The acceleration is 2 orders of magnitude. Incidentally since the \ntime array in this case is uniform, `~dcmri.conv` \ncan be accelerated by specifying dt instead of t in the arguments. However \nthe performance remains far below `~dcmri.expconv`:\n\n"
      ]
    },
    {
      "cell_type": "code",
      "execution_count": null,
      "metadata": {
        "collapsed": false
      },
      "outputs": [],
      "source": [
        "# Print the duration of 500 runs of conv with uniform dt:\nstart = time.time()\nfor i in range(500):\n    dc.conv(h, f, dt=t[1])\nprint('Computation time for conv(): ', \n      time.time()-start, 'sec')"
      ]
    },
    {
      "cell_type": "markdown",
      "metadata": {},
      "source": [
        "The difference in accuracy between `~dcmri.conv` and `~dcmri.expconv` \nbecomes more apparent at lower temporal resolution but generally remains \nminor. Using 10 time points instead of 50 as above we start seeing some \neffect:\n\n"
      ]
    },
    {
      "cell_type": "code",
      "execution_count": null,
      "metadata": {
        "collapsed": false
      },
      "outputs": [],
      "source": [
        "# Generate Gaussian and exponential at low temporal resolution:\nt = np.linspace(0, 120, 10)\nh = norm.pdf(t, 60, 10)\nf = np.exp(-t/Tf)/Tf\n\n# Convolve the Gaussian with the exponential in two different ways:\ng0 = dc.conv(h, f, t)\ng1 = dc.expconv(h, Tf, t)\n\n# Compare the result on the same plot:\nplt.plot(t, f, 'r-', label='f(t)')\nplt.plot(t, h, 'b-', label='h(t)')\nplt.plot(t, g0, label='conv()', linewidth=6, color='lightgray', linestyle='-')\nplt.plot(t, g1, 'k-', label='expconv()')\nplt.title('Comparison of conv() and expconv() at lower resolution')\nplt.legend()\nplt.show()"
      ]
    },
    {
      "cell_type": "markdown",
      "metadata": {},
      "source": [
        "## Convolving two or more exponentials\nIf both functions are exponentials, convolution can be accelerated further \nwith `~dcmri.biexpconv`, which uses an analytical formula to calculate the \nconvolution: \n\n"
      ]
    },
    {
      "cell_type": "code",
      "execution_count": null,
      "metadata": {
        "collapsed": false
      },
      "outputs": [],
      "source": [
        "# Create and exponential dataset:\nTh = 10\nh = np.exp(-t/Th)/Th\n\n# Print the duration of 1000 runs of expconv:\nstart = time.time()\nfor i in range(1000):\n    dc.expconv(h, Tf, t)\nprint('Computation time for expconv(): ', time.time()-start, 'sec')\n\n# Print the duration of 1000 runs of biexpconv:\nstart = time.time()\nfor i in range(1000):\n    dc.biexpconv(Th, Tf, t)\nprint('Computation time for biexpconv(): ', time.time()-start, 'sec')"
      ]
    },
    {
      "cell_type": "markdown",
      "metadata": {},
      "source": [
        "The difference in computation time is small in this case, but using an \nanalytical formula also comes with some improvements in accuracy. This is \napparent at lower time resolution:\n\n"
      ]
    },
    {
      "cell_type": "code",
      "execution_count": null,
      "metadata": {
        "collapsed": false
      },
      "outputs": [],
      "source": [
        "# Compute a bioexponential convolution with expconv:\ng0 = dc.expconv(h, Tf, t)\n\n# Compute a biexponential convolution with biexpconv:\ng1 = dc.biexpconv(Th, Tf, t)\n\n# Compare the results on the same plot:\nplt.plot(t, f, 'r-', label='f(t)')\nplt.plot(t, h, 'b-', label='h(t)')\nplt.plot(t, g0, 'k-', label='expconv()')\nplt.plot(t, g1, color='gray', linestyle='-', label='biexpconv()')\nplt.title('Comparison of expconv() and biexpconv()')\nplt.legend()\nplt.show()"
      ]
    },
    {
      "cell_type": "markdown",
      "metadata": {},
      "source": [
        "The final convolution function `~dcmri.nexpconv` convolves n indentical \nexponentials with mean transit time T analytically. We illustrate the \nresult by keeping the total mean transit time MTT=nT constant, and \nincreasing n from 1 to 100. As the number of exponentials increases, the \nconvolution converges to a delta function positioned on t=MTT:\n\n"
      ]
    },
    {
      "cell_type": "code",
      "execution_count": null,
      "metadata": {
        "collapsed": false
      },
      "outputs": [],
      "source": [
        "# Convolve 1, 10 and 100 indentical exponentials with the same total MTT:\nMTT = 30\nt = np.linspace(0, 120, 500)\ng1 = dc.nexpconv(1, MTT/1, t)\ng10 = dc.nexpconv(10, MTT/10, t)\ng100 = dc.nexpconv(100, MTT/100, t)\n\n# Compare the results on the same plot\nplt.plot(t, g1, 'r-', label='1 exponential')\nplt.plot(t, g10, 'g-', label='10 exponentials')\nplt.plot(t, g100, 'b-', label='100 exponentials')\nplt.title('Convolutions of identical exponentials')\nplt.legend()\nplt.show()"
      ]
    },
    {
      "cell_type": "markdown",
      "metadata": {},
      "source": [
        "## Convolution with a step function\n`dcmri` also provides a dedicated function `~dcmri.stepconv` for \nconvolution with a step function. We illustrate this function here and \ncompare against `~dcmri.conv`:\n\n"
      ]
    },
    {
      "cell_type": "code",
      "execution_count": null,
      "metadata": {
        "collapsed": false
      },
      "outputs": [],
      "source": [
        "# Generate some Gaussian data:\nn = 15\nt = np.linspace(0, 120, n)\nf = norm.pdf(t, 30, 10)\nT, D = 45, 0.5\n\n# Construct a step function explicitly:\nT0, T1 = T-D*T, T+D*T\nh = np.zeros(n)\nh[(t>=T0)*(t<=T1)] = 1/(T1-T0)\n\n# Convolve the step function with the Gaussian using conv:\ng0 = dc.conv(h, f, t)\n\n# Convolve the step function with the Gaussian using stepconv:\ng1 = dc.stepconv(f, T, D, t)\n\n# Compare the results on the same plot:\nplt.plot(t, f, 'r-', label='f(t)')\nplt.plot(t, g0, 'k-', label='conv()')\nplt.plot(t, g1, color='gray', linestyle='-', label='stepconv()')\nplt.title('Comparison of conv() and stepconv()')\nplt.legend()\nplt.show()"
      ]
    },
    {
      "cell_type": "markdown",
      "metadata": {},
      "source": [
        "As with `~dcmri.expconv` the difference between `~dcmri.stepconv` and \n`~dcmri.conv` is relatively small even for coarse time grids such as the \nabove, but there is a more substantial gain in computation time: \n\n"
      ]
    },
    {
      "cell_type": "code",
      "execution_count": null,
      "metadata": {
        "collapsed": false
      },
      "outputs": [],
      "source": [
        "# Print the computation time for 500 runs of conv:\nstart = time.time()\nfor _ in range(500):\n    dc.conv(h, f, t)\nprint('Computation time for conv(): ', time.time()-start, 'sec')\n\n# Print the computation time for 500 runs of stepconv:\nstart = time.time()\nfor _ in range(500):\n    dc.stepconv(f, T, D, t)\nprint('Computation time for stepconv(): ', time.time()-start, 'sec')"
      ]
    }
  ],
  "metadata": {
    "kernelspec": {
      "display_name": "Python 3",
      "language": "python",
      "name": "python3"
    },
    "language_info": {
      "codemirror_mode": {
        "name": "ipython",
        "version": 3
      },
      "file_extension": ".py",
      "mimetype": "text/x-python",
      "name": "python",
      "nbconvert_exporter": "python",
      "pygments_lexer": "ipython3",
      "version": "3.11.9"
    }
  },
  "nbformat": 4,
  "nbformat_minor": 0
}