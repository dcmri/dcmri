{
  "cells": [
    {
      "cell_type": "markdown",
      "metadata": {},
      "source": [
        "\n# Single-kidney glomerular filtration rate\n\nThis example illustrates the use of `~dcmri.Kidney` for measurement of \nsingle-kidney glomerular filtration rate (SK-GFR). \n\nThe script uses data from a validation study comparing MRI-derived \nmeasurement of SK-GFR against reference measurements performed with \nradio-isotopes (Basak et al 2018). The study used 124 historical \ndatasets collected in between the years 2000 and 2010 at 1 Tesla and \n3 Tesla MRI. \n\nThe study was funded by \n[Kidney Research UK](https://www.kidneyresearchuk.org/).\n\n**Reference**\n\nBasak S, Buckley DL, Chrysochou C, Banerji A, Vassallo D, Odudu A, Kalra PA, \nSourbron SP. Analytical validation of single-kidney glomerular filtration \nrate and split renal function as measured with magnetic resonance renography. \nMagn Reson Imaging. 2019 Jun;59:53-60. doi: 10.1016/j.mri.2019.03.005. \n[[URL]](https://pubmed.ncbi.nlm.nih.gov/30849485/).\n"
      ]
    },
    {
      "cell_type": "markdown",
      "metadata": {},
      "source": [
        "## Setup\n\n"
      ]
    },
    {
      "cell_type": "code",
      "execution_count": null,
      "metadata": {
        "collapsed": false
      },
      "outputs": [],
      "source": [
        "# Import packages and fetch data\nimport pandas as pd\nimport numpy as np\nimport matplotlib.pyplot as plt\nimport pydmr\n\nimport dcmri as dc\n\n# Fetch the data\ndatafile = dc.fetch('KRUK')\ndmr = pydmr.read(datafile, 'nest')\nrois, pars = dmr['rois'], dmr['pars']"
      ]
    },
    {
      "cell_type": "markdown",
      "metadata": {},
      "source": [
        "## Model definition\nIn order to avoid some repetition in this script, we define a function that \nreturns a trained model for a single dataset:\n\n"
      ]
    },
    {
      "cell_type": "code",
      "execution_count": null,
      "metadata": {
        "collapsed": false
      },
      "outputs": [],
      "source": [
        "def kidney_model(roi, par, kidney):\n\n    # Get B0 and precontrast T1\n    B0 = par['field_strength']\n    T1 = par[kidney+' T1'] if kidney+' T1' in par else dc.T1(B0, 'kidney')\n\n    # Define tissue model\n    model = dc.Kidney(\n\n        # Configuration\n        aif = roi['aorta'], \n        t = roi['time'],\n\n        # General parameters\n        field_strength = B0,\n        agent = par['agent'],\n        t0 = roi['time'][par['n0']],\n\n        # Sequence parameters\n        TR = par['TR'],\n        FA = par['FA'],\n\n        # Tissue parameters\n        vol = par[kidney+' vol'],\n        R10 = 1/T1,\n        R10a = 1/dc.T1(B0, 'blood'),\n    )\n\n    # Customize free parameter ranges\n    model.set_free(\n        pop = 'Ta', \n        Tt = [30, np.inf],\n    )\n\n    # Train the kidney model on the data\n    xdata = roi['time']\n    ydata = roi[kidney]\n    model.train(xdata, ydata)\n\n    return xdata, ydata, model"
      ]
    },
    {
      "cell_type": "markdown",
      "metadata": {},
      "source": [
        "## Check model fit\nBefore running the full analysis on all cases, lets illustrate the results \nby fitting the left kidney of the first subject:\n\n"
      ]
    },
    {
      "cell_type": "code",
      "execution_count": null,
      "metadata": {
        "collapsed": false
      },
      "outputs": [],
      "source": [
        "time, signal, model = kidney_model(\n    rois['001']['pre'], \n    pars['001']['pre'], \n    'LK',\n)"
      ]
    },
    {
      "cell_type": "markdown",
      "metadata": {},
      "source": [
        "Plot the results to check that the model has fitted the data:\n\n"
      ]
    },
    {
      "cell_type": "code",
      "execution_count": null,
      "metadata": {
        "collapsed": false
      },
      "outputs": [],
      "source": [
        "model.plot(time, signal)"
      ]
    },
    {
      "cell_type": "markdown",
      "metadata": {},
      "source": [
        "Print the measured model parameters and any derived parameters and check \nthat standard deviations of measured parameters are small relative to the \nvalue, indicating that the parameters are measured reliably:\n\n"
      ]
    },
    {
      "cell_type": "code",
      "execution_count": null,
      "metadata": {
        "collapsed": false
      },
      "outputs": [],
      "source": [
        "model.print_params(round_to=3)"
      ]
    },
    {
      "cell_type": "markdown",
      "metadata": {},
      "source": [
        "The measured SK-GFR for this kidney (0.43) is somewhat higher than the \nradio-isotope reference value (0.28):\n\n"
      ]
    },
    {
      "cell_type": "code",
      "execution_count": null,
      "metadata": {
        "collapsed": false
      },
      "outputs": [],
      "source": [
        "print('-----------------------------')\nprint('Comparison to reference value')\nprint('-----------------------------')\nprint('Radio-isotope SK-GFR: ', pars['001']['pre']['LK iso-SK-GFR'])"
      ]
    },
    {
      "cell_type": "markdown",
      "metadata": {},
      "source": [
        "## Fit all data\nNow that we have illustrated an individual result in some detail, we proceed \nto determine SK-GFR for all datasets:\n\n"
      ]
    },
    {
      "cell_type": "code",
      "execution_count": null,
      "metadata": {
        "collapsed": false
      },
      "outputs": [],
      "source": [
        "results = []\n\nfor subj in rois.keys():\n    for visit in rois[subj].keys():\n        for kidney in ['LK', 'RK']:\n            roi = rois[subj][visit]\n            par = pars[subj][visit]\n            if kidney not in roi:\n                continue\n            xdata, ydata, model = kidney_model(roi, par, kidney)\n\n            # Export parameters and add reference value\n            params = model.export_params()\n            params['iso-SK-GFR'] = [\n                'Isotope single-kidney GFR', \n                par[kidney + ' iso-SK-GFR'], \n                'mL/sec', \n                0,\n            ]\n            # Convert to a dataframe\n            df = pd.DataFrame.from_dict(\n                params, \n                orient = 'index', \n                columns = [\"name\", \"value\", \"unit\", \"stdev\"])\n            df['subject'] = subj\n            df['kidney'] = kidney\n            df['visit'] = visit\n            df['parameter'] = df.index\n            df['B0'] = par['field_strength']\n\n            # Append to results\n            results.append(df)\n\n# Combine all results into a single dataframe\nresults = pd.concat(results).reset_index(drop=True)"
      ]
    },
    {
      "cell_type": "markdown",
      "metadata": {},
      "source": [
        "Plot MRI values and reference values\n\n"
      ]
    },
    {
      "cell_type": "code",
      "execution_count": null,
      "metadata": {
        "collapsed": false
      },
      "outputs": [],
      "source": [
        "# Validation\nv1T = pd.pivot_table(results[results.B0==1], values='value', columns='parameter', index=['subject','kidney','visit'])\nv3T = pd.pivot_table(results[results.B0==3], values='value', columns='parameter', index=['subject','kidney','visit'])\n\niso1T, iso3T = 60*v1T['iso-SK-GFR'].values, 60*v3T['iso-SK-GFR'].values\nmri1T, mri3T = 60*v1T['GFR'].values, 60*v3T['GFR'].values\n\nplt.title('Single-kidney GFR (SK-GFR)')\nplt.plot(iso1T, mri1T, 'bo', linestyle='None', markersize=4, label='1T')\nplt.plot(iso3T, mri3T, 'ro', linestyle='None', markersize=4, label='3T')\nplt.plot(iso3T, iso3T, linestyle='-', color='black')\nplt.ylabel(\"MRI SK-GFR (mL/min)\")\nplt.xlabel(\"Isotope SK-GFR (mL/min)\")\n#plt.xlim(0,100)\n#plt.ylim(0,200)\nplt.legend()\nplt.show()"
      ]
    },
    {
      "cell_type": "markdown",
      "metadata": {},
      "source": [
        "Compute bias and accuracy\n\n"
      ]
    },
    {
      "cell_type": "code",
      "execution_count": null,
      "metadata": {
        "collapsed": false
      },
      "outputs": [],
      "source": [
        "v = pd.pivot_table(results, values='value', columns='parameter', index=['subject','kidney','visit'])\n\niso = 60*v['iso-SK-GFR'].values\nmri = 60*v['GFR'].values\n\ndiff = mri-iso\nbias = round(np.mean(diff),0)\nerr =  round(1.96*np.std(diff),0)\nbias_err = round(1.96*np.std(diff)/np.sqrt(np.size(diff)),0)\n\nprint('-----------------')\nprint('Single-kidney GFR')\nprint('-----------------')\nprint(f\"The bias in an MRI-based SK-GFR measurement is {bias} +/- {bias_err} ml/min\") # paper 0.56\nprint(f\"After bias correction, the error on an SK-GFR measurement is +/- {err} mL/min\") # paper [-28, 29]"
      ]
    },
    {
      "cell_type": "markdown",
      "metadata": {},
      "source": [
        "The results confirm the conclusion from the original study that \nthe precision of MR-derived SK-GFR with these historical data was \ntoo low for clinical use. The exact numerical values are different \nfrom those in the original study, showing the importance of \nimplementation detail.\n\n"
      ]
    }
  ],
  "metadata": {
    "kernelspec": {
      "display_name": "Python 3",
      "language": "python",
      "name": "python3"
    },
    "language_info": {
      "codemirror_mode": {
        "name": "ipython",
        "version": 3
      },
      "file_extension": ".py",
      "mimetype": "text/x-python",
      "name": "python",
      "nbconvert_exporter": "python",
      "pygments_lexer": "ipython3",
      "version": "3.11.9"
    }
  },
  "nbformat": 4,
  "nbformat_minor": 0
}