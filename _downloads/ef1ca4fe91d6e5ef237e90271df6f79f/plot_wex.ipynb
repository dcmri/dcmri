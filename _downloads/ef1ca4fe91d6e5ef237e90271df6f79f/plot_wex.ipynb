{
  "cells": [
    {
      "cell_type": "markdown",
      "metadata": {},
      "source": [
        "\n# An exploration of water exchange effects\n\nThis tutorial will explore the effect of water exchange in a standard \ntwo-compartmental tissue using the models in `dcmri.Tissue`.\n\nThe three tissue compartments involved are the blood, interstitium and tissue \ncells. The water exchange effects refer to the transport of water across the \nbarriers between them: **transendothelial** water exchange between blood and \ninterstitium, and **transcytolemmal** water exchange between interstitium and \ntissue cells. The water exchange in the blood compartment between plasma and \nred blood cells is assumed to be in the fast exchange limit. \n\nWater exchange across either of these two barriers can be in the \nfast-exchange limit (F), restricted (R), or there may be no water exchange at \nall (N). Since there are two barriers involved this leads to 3x3=9 possible \nwater exchange regimes. `dcmri.Tissue` denotes these 9 regimes by a \ncombination of the letters F, R and N: the frst letter refers to the water \nexchange across the endothelium, and the second to the water exchange across \nthe cell wall. For instance, 'FR' means fast water exchange (F) across the \nendothelium, and restricted water exchange (R) across the cell wall.\n\nFor regimes with restricted water exchange, the rate of exchange is quantified \nby the permeability-surface area (PS) of water, a quantity in units \nof mL/sec/cm3. `dcmri.Tissue` uses the notation ``PSe`` for the \ntransendothelial water PS and ``PSc`` for the transcytolemmal PS.\n"
      ]
    },
    {
      "cell_type": "markdown",
      "metadata": {},
      "source": [
        "## Simulation setup\nWe set up the simulation by importing the necessary packages and defining \nthe constants that will be fixed throughout. \n\n"
      ]
    },
    {
      "cell_type": "code",
      "execution_count": null,
      "metadata": {
        "collapsed": false
      },
      "outputs": [],
      "source": [
        "import matplotlib.pyplot as plt\nimport dcmri as dc\n\n# Generate a synthetic AIF with default settings\nt, aif, _ = dc.fake_aif(tacq=300)\n\n# Save AIF and its properties in a dictionary\naif = {\n    't': t,\n    'aif': aif, \n    'r1': dc.relaxivity(3, 'blood', 'gadodiamide'), \n    'R10a': 1/dc.T1(3.0,'blood'),\n}"
      ]
    },
    {
      "cell_type": "markdown",
      "metadata": {},
      "source": [
        "## The role of water exchange\nTo show how water exchange is relevant in DC-MRI analysis, it is insightful \nto first consider the extreme ends of the water exchange spectrum in some \nmore detail: fast water exchange (F) and no water exchange (N). \n\nLet's first generate a tissue without water exchange across either barrier. \nWe will use the more general model of restricted water exchange 'RR' and set \nthe permeabilities to zero, as this then also plots the signals in individual \ncompartments:\n\n"
      ]
    },
    {
      "cell_type": "code",
      "execution_count": null,
      "metadata": {
        "collapsed": false
      },
      "outputs": [],
      "source": [
        "tissue_nn = dc.Tissue('2CX', 'RR', PSe=0, PSc=0, **aif)\ntissue_nn.plot()"
      ]
    },
    {
      "cell_type": "markdown",
      "metadata": {},
      "source": [
        "In this model the indicator and water occupy the same compartments, so the \nconcentrations on the right are the same. The magnetization (bottom left) \nfollows the profile of the indicator concentrations exactly: since \nmagnetization cannot \nexchange, it cannot equilibrate and remains directly proportional to the \nconcentration in the compartment. Notably, the magnetization in the tissue \ncells remains constant as no indicator can enter this \ncompartment to modify it, and no magnetization can be transferred.\n\nNow lets consider the opposite scenario of fast water exchange across both \nbarriers (*Note*: we could use the FF model here, but for the purposes of \nthis illustration it is more instructive to use RR with very high values \nfor the water permeabilities): \n\n"
      ]
    },
    {
      "cell_type": "code",
      "execution_count": null,
      "metadata": {
        "collapsed": false
      },
      "outputs": [],
      "source": [
        "tissue_ff = dc.Tissue('2CX','RR', PSe=1e3, PSc=1e3, **aif)\ntissue_ff.plot()"
      ]
    },
    {
      "cell_type": "markdown",
      "metadata": {},
      "source": [
        "The indicator concentration in the tissue compartments is not affected by \nthe level of water exchange (top and bottom right), but the magnetization \nin all 3 compartments is now effectively the same (bottom left). Even the \ntissue cells, \nwhich receive no indicator at all, show the same signal changes over time \nas the interstitium and blood compartments. This is because, with very high \nlevels of water exchange, the magnetization between all 3 compartments mixes \nso rapidly that any differences are levelled out instantly. The tissue is \nwell-mixed for water (and therefore water magnetization), although it is not \nwell-mixed for indicator.\n\n"
      ]
    },
    {
      "cell_type": "markdown",
      "metadata": {},
      "source": [
        "Now let's consider the cases where one of the barriers is highly permeable \nfor water, and the other is impermeable. First let's look at the case of \nhigh transendothelial water exchange and no transcytolemmal water exchange:\n\n"
      ]
    },
    {
      "cell_type": "code",
      "execution_count": null,
      "metadata": {
        "collapsed": false
      },
      "outputs": [],
      "source": [
        "tissue_fn = dc.Tissue('2CX','RR', PSe=1e3, PSc=0, **aif)\ntissue_fn.plot()"
      ]
    },
    {
      "cell_type": "markdown",
      "metadata": {},
      "source": [
        "As expected, blood and interstitium have the same magnetization throughout \nand the magnetization of tissue cells is not altered at all. The opposite \ncase is similar:\n\n"
      ]
    },
    {
      "cell_type": "code",
      "execution_count": null,
      "metadata": {
        "collapsed": false
      },
      "outputs": [],
      "source": [
        "tissue_nf = dc.Tissue('2CX','RR', PSe=0, PSc=1e3, **aif)\ntissue_nf.plot()"
      ]
    },
    {
      "cell_type": "markdown",
      "metadata": {},
      "source": [
        "In this case the tissue cells recieve the same magnetization as the \ninterstitium. \n\n"
      ]
    },
    {
      "cell_type": "markdown",
      "metadata": {},
      "source": [
        "## Water exchange effect on the MR signal\n\nFrom a measurement perspective, the important question is to what extent \nwater exchange across either barrier affects the measured signal, shown in \nthe top left corner of the plots above. \n\nTo illustrate the signal differences in more detail, we plot signals in \nmixed exchange regimes against the extremes of fast and no exchange. For \nreference we also include a tissue with intermediate water exchange: \n\n"
      ]
    },
    {
      "cell_type": "code",
      "execution_count": null,
      "metadata": {
        "collapsed": false
      },
      "outputs": [],
      "source": [
        "# Build a tissue in an intermediate water exchange regime\ntissue_rr = dc.Tissue('2CX','RR', PSe=1, PSc=2, **aif)\n\n# Generate signals in all regimes\nsignal_ff = tissue_ff.signal()\nsignal_nn = tissue_nn.signal()\nsignal_fn = tissue_fn.signal()\nsignal_nf = tissue_nf.signal()\nsignal_rr = tissue_rr.signal()\n\n# Plot signals against extremes\nfig, ax = plt.subplots(1,3,figsize=(15,5))\n\nax[0].set_title(\"\"\"No transendothelial exchange \\n \n                Fast transcytolemmal exchange\"\"\")\nax[1].set_title(\"\"\"Fast transendothelial exchange \\n \n                No transcytolemmal exchange\"\"\")\nax[2].set_title(\"\"\"Restricted transendothelial exchange \\n \n                Restricted transcytolemmal exchange\"\"\")\n\nax[0].plot(t, signal_nf, 'r--', label='Mixed exchange')\nax[1].plot(t, signal_fn, 'r--', label='Mixed exchange')\nax[2].plot(t, signal_rr, 'r--', label='Restricted exchange')\n\nfor axis in ax:\n    axis.plot(t, signal_ff, 'g-', label='Fast exchange')\n    axis.plot(t, signal_nn, 'b-', label='No exchange')\n    axis.set_xlabel('Time (sec)')\n    axis.set_ylabel('Signal (a.u.)')\n    axis.legend()\n\nplt.show()"
      ]
    },
    {
      "cell_type": "markdown",
      "metadata": {},
      "source": [
        "These figures show clearly that water exchange levels have a measureable \neffect on signals, and at all times lie between the extremes of no water \nexchange (blue) and fast water exchange (green). \n\nHowever, while the effect of water exchange is detectable, it is \ncomparatively small considering the difference between the blue and green \ncurves represent the extremes. By contrast, changing the exchange rate of \nthe indicator between its extremes of no- and infinite indicator exchange \nhas a more significant impact on the signal:\n\n"
      ]
    },
    {
      "cell_type": "code",
      "execution_count": null,
      "metadata": {
        "collapsed": false
      },
      "outputs": [],
      "source": [
        "tissue_2cx = dc.Tissue('2CX','RR', **aif)\ntissue_nx = dc.Tissue('2CX','RR', PS=0, **aif)\ntissue_fx = dc.Tissue('2CX','RR', PS=1e3, **aif)\n\n# Plot signals \nfig, ax = plt.subplots(1,1,figsize=(6,5))\n\nax.set_title('Fast vs no transendothelial indicator exchange')\nax.plot(t, tissue_fx.signal(), 'g-', label='Fast indicator exchange')\nax.plot(t, tissue_nx.signal(), 'b-', label='No indicator exchange')\nax.plot(t, tissue_2cx.signal(), 'r--', label='Intermediate indicator exchange')\nax.set_xlabel('Time (sec)')\nax.set_ylabel('Signal (a.u.)')\nax.legend()\n\nplt.show()"
      ]
    },
    {
      "cell_type": "markdown",
      "metadata": {},
      "source": [
        "## Water exchange bias\nAs shown above, water exchange is to some extent a second order effect \ncompared to indicator exchange. Nevertheless, making inaccurate assumptions \nregarding the level of water exchange can lead to large biases in the other \nmeasured parameters.\n\nOne way to explore the scale of this water exchange bias is by training a \ntissue that has no water exchange (NN) using data generated by a tissue in \nfast water exchange:\n\n"
      ]
    },
    {
      "cell_type": "code",
      "execution_count": null,
      "metadata": {
        "collapsed": false
      },
      "outputs": [],
      "source": [
        "# Train a NN tissue on the fast-exchange signal and plot results\ntissue_nn = dc.Tissue('2CX', 'NN', **aif)\ntissue_nn.train(t, signal_ff)\ntissue_nn.plot(t, signal_ff)"
      ]
    },
    {
      "cell_type": "markdown",
      "metadata": {},
      "source": [
        "The plot shows that the no-exchange tissue predicts the data with high \naccuracy. However, the reconstructed magnetization is incorrect for fast \nexchange tissue, and the reconstructed parameters are severely biased:\n\n"
      ]
    },
    {
      "cell_type": "code",
      "execution_count": null,
      "metadata": {
        "collapsed": false
      },
      "outputs": [],
      "source": [
        "truth = tissue_ff.params('vp','vi','Ktrans')\nrec = tissue_nn.params('vp','vi','Ktrans')\nprint('vp error:', round(100*(rec[0]-truth[0])/truth[0],1), '%')\nprint('vi error:', round(100*(rec[1]-truth[1])/truth[1],1), '%')\nprint('Ktrans error:', round(100*(rec[2]-truth[2])/truth[2],1), '%')"
      ]
    },
    {
      "cell_type": "markdown",
      "metadata": {},
      "source": [
        "## Removing water exchange bias\nWater exchange forms a dangerous source of measurement error because it \ncannot be detected by comparing the fit to the data. In ideal circumstances, \nit can be removed by generalizing the model to allow for any level of water \nexchange. Let's try this and look at the results again:\n\n"
      ]
    },
    {
      "cell_type": "code",
      "execution_count": null,
      "metadata": {
        "collapsed": false
      },
      "outputs": [],
      "source": [
        "# Train an RR tissue and plot again\ntissue = dc.Tissue('2CX','RR', **aif)\ntissue.train(t, signal_ff, xtol=1e-3)\ntissue.plot(t, signal_ff)"
      ]
    },
    {
      "cell_type": "markdown",
      "metadata": {},
      "source": [
        "Plotting the results now show a practically perfect fit to the data, and the \nmagnetization is close to the fast exchange limit. Also the measurements of \nthe kinetic parameters are more accurate:\n\n"
      ]
    },
    {
      "cell_type": "code",
      "execution_count": null,
      "metadata": {
        "collapsed": false
      },
      "outputs": [],
      "source": [
        "rec = tissue.params('vp','vi','Ktrans')\nprint('vp error:', round(100*(rec[0]-truth[0])/truth[0],1), '%')\nprint('vi error:', round(100*(rec[1]-truth[1])/-truth[1],1), '%')\nprint('Ktrans error:', round(100*(rec[2]-truth[2])/truth[2],1), '%')"
      ]
    },
    {
      "cell_type": "markdown",
      "metadata": {},
      "source": [
        "As a bonus the water-exchange sensitive model also estimates the water \npermeability. While a numerical fit will not produce the accurate result of \ninfinite water PS, this nevertheless produces values that correspond to \nextremely high levels of water exchange: \n\n"
      ]
    },
    {
      "cell_type": "code",
      "execution_count": null,
      "metadata": {
        "collapsed": false
      },
      "outputs": [],
      "source": [
        "rec = tissue.params('PSe', 'PSc', round_to=0)\nprint('PSe:', rec[0], 'mL/sec/cm3')\nprint('PSc:', rec[1], 'mL/sec/cm3')"
      ]
    },
    {
      "cell_type": "markdown",
      "metadata": {},
      "source": [
        "## Handling water exchange\nThe above example suggests one strategy of removing water exchange bias, \ni.e. include water exchange rates as free parameters and get the added \nbenefit of a water exchange measurement. However this may not always be the \nright approach. The data in this tutorial are noise-free, and therefore even \nvery subtle structure can be exploited to estimate parameters. In noisy data \nthis may not be the case, and one may well be forced to fix parameters that \nhave a relatively small effect on the data in order to improve the precision \nin others. \n\nThis raises the question where any of the regimes of fast and zero water \nexchange offers a good approximation to real tissues. For this exercise we \nwill assume values on the upper end of literature data. We plot the \nresulting signal against the extremes of fast and no exchange:\n\n"
      ]
    },
    {
      "cell_type": "code",
      "execution_count": null,
      "metadata": {
        "collapsed": false
      },
      "outputs": [],
      "source": [
        "# Generate tissue\ntissue = dc.Tissue('2CX', 'RR', PSe=0.05, PSc=1.5, **aif)\ntissue_nn = dc.Tissue('2CX', 'NN', **aif)\ntissue_ff = dc.Tissue('2CX', 'FF', **aif)\n\n# Plot signals \nfig, ax = plt.subplots(1,1,figsize=(6,5))\n\nax.set_title('Restricted water exchange against extremes')\nax.plot(t, tissue_ff.signal(), 'g-', label='Fast water exchange')\nax.plot(t, tissue_nn.signal(), 'b-', label='No water exchange')\nax.plot(t, tissue.signal(), 'r--', label='Restricted water exchange')\nax.set_xlabel('Time (sec)')\nax.set_ylabel('Signal (a.u.)')\nax.legend()\n\nplt.show()"
      ]
    },
    {
      "cell_type": "markdown",
      "metadata": {},
      "source": [
        "With these settings, the restricated water exchange signal is approximately \nintermediate between fast and no water exchange. Hence neither approximation \nappears particulare more accurate than the alternative. \n\nHowever, the impact \nof water exchange also depends on the imaging sequence, such as the choice \nof flip angle. Hence these effects should be taken into account when \noptimizing the scan protocol. Water exchange sensitivity should be maximized \nfor studies that aim to measure it, and minimized for studies where it is a \nconfounder. \n"
      ]
    }
  ],
  "metadata": {
    "kernelspec": {
      "display_name": "Python 3",
      "language": "python",
      "name": "python3"
    },
    "language_info": {
      "codemirror_mode": {
        "name": "ipython",
        "version": 3
      },
      "file_extension": ".py",
      "mimetype": "text/x-python",
      "name": "python",
      "nbconvert_exporter": "python",
      "pygments_lexer": "ipython3",
      "version": "3.11.9"
    }
  },
  "nbformat": 4,
  "nbformat_minor": 0
}