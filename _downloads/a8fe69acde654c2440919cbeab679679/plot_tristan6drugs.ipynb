{
  "cells": [
    {
      "cell_type": "markdown",
      "metadata": {},
      "source": [
        "\n# Preclinical - effect on liver function of 6 test drugs\n\nThis example illustrates the use of `~dcmri.Liver` for fitting of signals \nmeasured in liver. The use case is provided by the liver work package of the \n[TRISTAN project](https://www.imi-tristan.eu/liver)  which develops imaging \nbiomarkers for drug safety assessment. The data and analysis were first \npublished in Melillo et al (2023). \n\nThe specific objective of the study was to determine the effect of selected \ndrugs on hepatocellular uptake and excretion of the liver-specific contrast \nagent gadoxetate. If a drug inhibits uptake into liver cells, then it might \ncause other drugs to circulate in the blood stream for longer than expected, \npotentially causing harm to other organs. Alternatively, if a drug inhibits \nexcretion from the liver, then it might cause other drugs to pool in liver \ncells for much longer than expected, potentially causing liver injury. These \nso-called drug-drug interactions (DDI's) pose a significant risk to patients \nand trial participants. A direct in-vivo measurement of drug effects on liver \nuptake and excretion can potentially help improve predictions of DDI's and \ninform dose setting strategies to reduce the risk.\n\nThe study presented here measured gadoxetate uptake and excretion in healthy \nrats before and after injection of 6 test drugs. Studies were performed in \npreclinical MRI scanners at 3 different centers and 2 different field \nstrengths. Results demonstrated that two of the tested drugs (rifampicin and \ncyclosporine) showed strong inhibition of both uptake and excretion. One drug \n(ketoconazole) inhibited uptake but not excretion. Three drugs (pioglitazone, \nbosentan and asunaprevir) inhibited excretion but not uptake. \n\n**Reference**\n\nMelillo N, Scotcher D, Kenna JG, Green C, Hines CDG, Laitinen I, Hockings PD, \nOgungbenro K, Gunwhy ER, Sourbron S, et al. Use of In Vivo Imaging and \nPhysiologically-Based Kinetic Modelling to Predict Hepatic Transporter \nMediated Drug\u2013Drug Interactions in Rats. Pharmaceutics. 2023; 15(3):896. \n[[DOI]](https://doi.org/10.3390/pharmaceutics15030896) \n"
      ]
    },
    {
      "cell_type": "markdown",
      "metadata": {},
      "source": [
        "## Setup\n\n"
      ]
    },
    {
      "cell_type": "code",
      "execution_count": null,
      "metadata": {
        "collapsed": false
      },
      "outputs": [],
      "source": [
        "# Import packages\nimport pandas as pd\nimport numpy as np\nimport matplotlib.pyplot as plt\nimport pydmr\nimport dcmri as dc\n\n# Fetch the data\ndmrfile = dc.fetch('tristan_rats_healthy_six_drugs')\ndmr = pydmr.read(dmrfile, 'nest')\nrois, pars = dmr['rois'], dmr['pars']"
      ]
    },
    {
      "cell_type": "markdown",
      "metadata": {},
      "source": [
        "## Model definition\nIn order to avoid some repetition in this script, we define a function that \nreturns a trained model for a single dataset. \n\nThe model uses a standardized, population-average input function and fits \nfor only 2 parameters, fixing all other free parameters to typical values \nfor this rat model:\n\n"
      ]
    },
    {
      "cell_type": "code",
      "execution_count": null,
      "metadata": {
        "collapsed": false
      },
      "outputs": [],
      "source": [
        "def tristan_rat(roi, par, **kwargs):\n\n    # High-resolution time points for prediction\n    t = np.arange(0, np.amax(roi['time'])+0.5, 0.5)\n\n    # Standard input function\n    ca = dc.aif_tristan_rat(t, BAT=par['BAT'], duration=par['duration'])\n\n    # Liver model with population input function\n    model = dc.Liver(\n\n        # Input parameters\n        t = t,\n        ca = ca,\n\n        # Acquisition parameters\n        field_strength = par['field_strength'],\n        TR = par['TR'],\n        FA = par['FA'],\n        n0 = par['n0'],\n\n        # Configure as in the TRISTAN-rat study\n        config = 'TRISTAN-rat',\n    )\n    return model.train(roi['time'], roi['liver'], **kwargs)"
      ]
    },
    {
      "cell_type": "markdown",
      "metadata": {},
      "source": [
        "## Check model fit\nBefore running the full analysis on all cases, lets illustrate the results \nby fitting the baseline visit for the first subject. We use maximum \nverbosity to get some feedback about the iterations: \n\n"
      ]
    },
    {
      "cell_type": "code",
      "execution_count": null,
      "metadata": {
        "collapsed": false
      },
      "outputs": [],
      "source": [
        "model = tristan_rat(\n    rois['S05-02']['Day_1'], \n    pars['S05-02']['Day_1'],\n    xtol=1e-3, \n    verbose=2,\n)"
      ]
    },
    {
      "cell_type": "markdown",
      "metadata": {},
      "source": [
        "Plot the results to check that the model has fitted the data:\n\n"
      ]
    },
    {
      "cell_type": "code",
      "execution_count": null,
      "metadata": {
        "collapsed": false
      },
      "outputs": [],
      "source": [
        "model.plot(\n    rois['S05-02']['Day_1']['time'], \n    rois['S05-02']['Day_1']['liver'],\n)"
      ]
    },
    {
      "cell_type": "markdown",
      "metadata": {},
      "source": [
        "Print the measured model parameters and any derived parameters and check \nthat standard deviations of measured parameters are small relative to the \nvalue, indicating that the parameters are measured reliably:\n\n"
      ]
    },
    {
      "cell_type": "code",
      "execution_count": null,
      "metadata": {
        "collapsed": false
      },
      "outputs": [],
      "source": [
        "model.print_params(round_to=3)"
      ]
    },
    {
      "cell_type": "markdown",
      "metadata": {},
      "source": [
        "## Fit all data\nNow that we have illustrated an individual result in some detail, we proceed \nwith fitting all the data. Results are stored in a dataframe in long format:\n\n"
      ]
    },
    {
      "cell_type": "code",
      "execution_count": null,
      "metadata": {
        "collapsed": false
      },
      "outputs": [],
      "source": [
        "results = []\n\n# Loop over all datasets\nfor subj in rois.keys():\n    for visit in rois[subj].keys():\n\n        roi = rois[subj][visit]\n        par = pars[subj][visit]\n\n        # Generate a trained model\n        model = tristan_rat(roi, par, xtol=1e-3)\n        \n        # Export fitted parameters as lists\n        rows = model.export_params(type='list')\n\n        # Add study, visit and subject info\n        rows = [row + [par['study'], par['visit'], subj] for row in rows]\n\n        # Add to the list of all results\n        results += rows\n\n# Combine all results into a single dataframe.\ncols = ['parameter', 'name', 'value', 'unit', 'stdev', 'study',\n        'visit', 'subject']\nresults = pd.DataFrame(results, columns=cols)\n\n# Print all results\nprint(results.to_string())"
      ]
    },
    {
      "cell_type": "markdown",
      "metadata": {},
      "source": [
        "## Plot individual results\nNow lets visualise the main results from the study by plotting the drug \neffect for all rats, and for both biomarkers: uptake rate ``khe`` and \nexcretion rate ``kbh``:\n\n"
      ]
    },
    {
      "cell_type": "code",
      "execution_count": null,
      "metadata": {
        "collapsed": false
      },
      "outputs": [],
      "source": [
        "# Set up the figure\nclr = ['tab:blue', 'tab:orange', 'tab:green', 'tab:red', 'tab:purple', \n       'tab:brown']\nfs = 10\nfig, ax = plt.subplots(2, 6, figsize=(6*1.5, 8))\nfig.subplots_adjust(wspace=0.2, hspace=0.1)\n\n# Loop over all studies\nstudies = [5,10,8,7,6,12]\ndrugs = ['Asunaprevir','Bosentan','Cyclosporine','Ketoconazole',\n         'Pioglitazone','Rifampicin']\nfor i, s in enumerate(studies):\n\n    # Set up subfigures for the study\n    ax[0,i].set_title(drugs[i], fontsize=fs, pad=10)\n    ax[0,i].set_ylim(0, 300)\n    ax[0,i].set_xticklabels([])\n    ax[1,i].set_ylim(0, 30)\n    ax[1,i].set_xticklabels([])\n    if i==0:\n        ax[0,i].set_ylabel('khe (mL/min/100mL)', fontsize=fs)\n        ax[0,i].tick_params(axis='y', labelsize=fs)\n        ax[1,i].set_ylabel('kbh (mL/min/100mL)', fontsize=fs)\n        ax[1,i].tick_params(axis='y', labelsize=fs)\n    else:\n        ax[0,i].set_yticklabels([])\n        ax[1,i].set_yticklabels([])\n\n    # Pivot data for both visits of the study for easy access:\n    study = results[results.study==s]\n    v1 = pd.pivot_table(study[study.visit==1], values='value', \n                        columns='parameter', index='subject')\n    v2 = pd.pivot_table(study[study.visit==2], values='value', \n                        columns='parameter', index='subject')\n\n    # Plot the rate constants in units of mL/min/100mL\n    for s in v1.index:\n        x = [1]\n        khe = [6000*v1.at[s,'khe']]\n        kbh = [6000*v1.at[s,'kbh']] \n        if s in v2.index:\n            x += [2]\n            khe += [6000*v2.at[s,'khe']]\n            kbh += [6000*v2.at[s,'kbh']] \n        color = clr[int(s[-2:])-1]\n        ax[0,i].plot(x, khe, '-', label=s, marker='o', markersize=6, \n                     color=color)\n        ax[1,i].plot(x, kbh, '-', label=s, marker='o', markersize=6, \n                     color=color)\n\nplt.show()"
      ]
    },
    {
      "cell_type": "markdown",
      "metadata": {},
      "source": [
        "## Plot effect sizes\nNow lets calculate the effect sizes (relative change) for each drug, along \nwith 95% confidence interval, and show these in a plot. Results are \npresented in **red** if inhibition is more than 20% (i.e. upper value of \nthe 95% CI is less than -20%), in **orange** if inhbition is less than 20% \n(i.e. upper value of the 95% CI is less than 0%), and in **green** if no \ninhibition was detected with 95% confidence (0% in the 95% CI):\n\n"
      ]
    },
    {
      "cell_type": "code",
      "execution_count": null,
      "metadata": {
        "collapsed": false
      },
      "outputs": [],
      "source": [
        "# Set up figure\nfig, (ax0, ax1) = plt.subplots(1, 2, figsize=(6, 5))\nfig.subplots_adjust(left=0.3, right=0.7, wspace=0.25)\n\nax0.set_title('khe effect (%)', fontsize=fs, pad=10)\nax1.set_title('kbh effect (%)', fontsize=fs, pad=10)\nax0.set_xlim(-100, 50)\nax1.set_xlim(-100, 50)\nax0.grid(which='major', axis='x', linestyle='-')\nax1.grid(which='major', axis='x', linestyle='-')\nax1.set_yticklabels([])\n\n# Loop over all studies\nfor i, s in enumerate(studies):\n\n    # Pivot data for both visits of the study for easy access:\n    study = results[results.study==s]\n    v1 = pd.pivot_table(study[study.visit==1], values='value', \n                        columns='parameter', index='subject')\n    v2 = pd.pivot_table(study[study.visit==2], values='value', \n                        columns='parameter', index='subject')\n    \n    # Calculate effect size for the drug in %\n    effect = 100*(v2-v1)/v1\n\n    # Get descriptive statistics\n    stats = effect.describe()\n\n    # Calculate mean effect sizes and 59% CI on the mean.\n    khe_eff = stats.at['mean','khe']\n    kbh_eff = stats.at['mean','kbh']\n    khe_eff_err = 1.96*stats.at['std','khe']/np.sqrt(stats.at['count','khe'])\n    kbh_eff_err = 1.96*stats.at['std','kbh']/np.sqrt(stats.at['count','kbh'])\n\n    # Plot mean effect size for khe along with 95% CI\n    # Choose color based on magnitude of effect\n    if khe_eff + khe_eff_err < -20:\n        clr = 'tab:red'\n    elif khe_eff + khe_eff_err < 0:\n        clr = 'tab:orange'\n    else:\n        clr = 'tab:green'\n    ax0.errorbar(khe_eff, drugs[i], xerr=khe_eff_err, fmt='o', color=clr)\n\n    # Plot mean effect size for kbh along with 95% CI\n    # Choose color based on magnitude of effect\n    if kbh_eff + kbh_eff_err < -20:\n        clr = 'tab:red'\n    elif kbh_eff + kbh_eff_err < 0:\n        clr = 'tab:orange'\n    else:\n        clr = 'tab:green'\n    ax1.errorbar(kbh_eff, drugs[i], xerr=kbh_eff_err, fmt='o', color=clr)\n\n# Plot dummy values out of range to show a legend\nax1.errorbar(-200, drugs[0], \n             marker='o', \n             color='tab:red', \n             label='inhibition > 20%')\nax1.errorbar(-200, drugs[0], \n             marker='o', \n             color='tab:orange', \n             label='inhibition')\nax1.errorbar(-200, drugs[0], \n             marker='o', \n             color='tab:green', \n             label='no inhibition')\nax1.legend(loc='center left', bbox_to_anchor=(1, 0.5))\n\nplt.show()\n\n# Choose the last image as a thumbnail for the gallery\n# sphinx_gallery_thumbnail_number = -1"
      ]
    }
  ],
  "metadata": {
    "kernelspec": {
      "display_name": "Python 3",
      "language": "python",
      "name": "python3"
    },
    "language_info": {
      "codemirror_mode": {
        "name": "ipython",
        "version": 3
      },
      "file_extension": ".py",
      "mimetype": "text/x-python",
      "name": "python",
      "nbconvert_exporter": "python",
      "pygments_lexer": "ipython3",
      "version": "3.11.9"
    }
  },
  "nbformat": 4,
  "nbformat_minor": 0
}