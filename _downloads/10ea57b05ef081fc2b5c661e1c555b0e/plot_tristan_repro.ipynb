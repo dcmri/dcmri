{
  "cells": [
    {
      "cell_type": "markdown",
      "metadata": {},
      "source": [
        "\n# Preclinical - reproducibility of hepatocellular function\n\n[Ebony Gunwhy](https://orcid.org/0000-0002-5608-9812).\n\nThis example illustrates the use of `~dcmri.Liver` for fitting of signals \nmeasured in liver. The use case is provided by the liver work package of the \n[TRISTAN project](https://www.imi-tristan.eu/liver)  which develops imaging \nbiomarkers for drug safety assessment. The data and analysis were first \npublished in Gunwhy et al. (2024). \n\nThe specific objective of the study was to to identify the main sources of\nvariability in DCE-MRI biomarkers of hepatocellular function in rats. This was\ndone by comparing data measured at different centres and field strengths, at\ndifferent days in the same subjects, and over the course of several months\nin the same centre.\n\nThe study presented here measured gadoxetate uptake and excretion in healthy \nrats either scanned once with vehicle or twice with either vehicle or 10 mg/kg\nof rifampicin at follow-up. Studies were performed in preclinical MRI scanners\nat 3 different centers and 2 different field strengths. Results demonstrated\nsignificant differences between substudies for uptake and excretion.\nWithin-subject differences were substantially smaller for excretion but less so\nfor uptake. Rifampicin-induced inhibition was safely above the detection limits\nfor both uptake and excretion. Most of the variability in individual data was\naccounted for by between-subject and between-centre variability, substantially\nmore than the between-day variation. Significant differences in excretion were\nobserved between field strengths at the same centre, between centres at the same\nfield strength, and between repeat experiments over 2 months apart in the same\ncentre.\n\n**Reference**\n\nGunwhy ER, Hines CDG, Green C, Laitinen I, Tadimalla S, Hockings PD, Sch\u00fctz G,\nKenna JG, Sourbron S, Waterton JC. Assessment of hepatic transporter function\nin rats using dynamic gadoxetate-enhanced MRI: a reproducibility study. MAGMA.\n2024 Aug;37(4):697-708. [[DOI]](https://doi.org/10.1007/s10334-024-01192-5)\n"
      ]
    },
    {
      "cell_type": "markdown",
      "metadata": {},
      "source": [
        "## Setup\n\n"
      ]
    },
    {
      "cell_type": "code",
      "execution_count": null,
      "metadata": {
        "collapsed": false
      },
      "outputs": [],
      "source": [
        "# Import packages\nimport pandas as pd\nimport numpy as np\nimport matplotlib.pyplot as plt\nimport seaborn as sns\nimport pydmr\nimport dcmri as dc\n\n# Fetch the data\ndmrfile = dc.fetch('tristan_rats_healthy_reproducibility')\ndata = pydmr.read(dmrfile, 'nest')\nrois, pars = data['rois'], data['pars']"
      ]
    },
    {
      "cell_type": "markdown",
      "metadata": {},
      "source": [
        "## Model definition\nIn order to avoid some repetition in this script, we define a function that \nreturns a trained model for a single dataset. \n\nThe model uses a standardized, population-average input function and fits \nfor only 2 parameters, fixing all other free parameters to typical values \nfor this rat model:\n\n"
      ]
    },
    {
      "cell_type": "code",
      "execution_count": null,
      "metadata": {
        "collapsed": false
      },
      "outputs": [],
      "source": [
        "def tristan_rat(roi, par, **kwargs):\n\n    # High-resolution time points for prediction\n    t = np.arange(0, np.amax(roi['time'])+0.5, 0.5)\n\n    # Standard input function\n    ca = dc.aif_tristan_rat(t, BAT=par['BAT'], duration=par['duration'])\n\n    # Liver model with population input function\n    model = dc.Liver(\n\n        # Input parameters\n        t = t,\n        ca = ca,\n\n        # Acquisition parameters\n        field_strength = par['field_strength'],\n        TR = par['TR'],\n        FA = par['FA'],\n        n0 = par['n0'],\n\n        # Configure as in the TRISTAN-rat study \n        config = 'TRISTAN-rat',\n    )\n    return model.train(roi['time'], roi['liver'], **kwargs)"
      ]
    },
    {
      "cell_type": "markdown",
      "metadata": {},
      "source": [
        "## Check model fit\nBefore running the full analysis on all cases, lets illustrate the results \nby fitting the baseline visit for the first subject. We use maximum \nverbosity to get some feedback about the iterations: \n\n"
      ]
    },
    {
      "cell_type": "code",
      "execution_count": null,
      "metadata": {
        "collapsed": false
      },
      "outputs": [],
      "source": [
        "model = tristan_rat(\n    rois['S01-01']['Day_1'], \n    pars['S01-01']['Day_1'],\n    xtol=1e-3, \n    verbose=2,\n)"
      ]
    },
    {
      "cell_type": "markdown",
      "metadata": {},
      "source": [
        "Plot the results to check that the model has fitted the data:\n\n"
      ]
    },
    {
      "cell_type": "code",
      "execution_count": null,
      "metadata": {
        "collapsed": false
      },
      "outputs": [],
      "source": [
        "model.plot(\n    rois['S01-01']['Day_1']['time'], \n    rois['S01-01']['Day_1']['liver'],\n)"
      ]
    },
    {
      "cell_type": "markdown",
      "metadata": {},
      "source": [
        "Print the measured model parameters and any derived parameters and check \nthat standard deviations of measured parameters are small relative to the \nvalue, indicating that the parameters are measured reliably:\n\n"
      ]
    },
    {
      "cell_type": "code",
      "execution_count": null,
      "metadata": {
        "collapsed": false
      },
      "outputs": [],
      "source": [
        "model.print_params(round_to=3)"
      ]
    },
    {
      "cell_type": "markdown",
      "metadata": {},
      "source": [
        "## Fit all data\nNow that we have illustrated an individual result in some detail, we proceed \nwith fitting all the data. Results are stored in a dataframe in long format:\n\n"
      ]
    },
    {
      "cell_type": "code",
      "execution_count": null,
      "metadata": {
        "collapsed": false
      },
      "outputs": [],
      "source": [
        "results = []\n\n# Loop over all datasets\nfor subj in rois.keys():\n    for visit in rois[subj].keys():\n        \n        roi = rois[subj][visit]\n        par = pars[subj][visit]\n\n        # Generate a trained model\n        model = tristan_rat(roi, par, xtol=1e-3)\n        \n        # Export fitted parameters as lists\n        rows = model.export_params(type='list')\n\n        # Add study, visit and subject info\n        rows = [row + [par['study'], par['visit'], subj] for row in rows]\n\n        # Add to the list of all results\n        results += rows\n\n# Combine all results into a single dataframe.\ncols = ['parameter', 'name', 'value', 'unit', 'stdev', 'study',\n        'visit', 'subject']\nresults = pd.DataFrame(results, columns=cols)\n\n# Print all results\nprint(results.to_string())"
      ]
    },
    {
      "cell_type": "markdown",
      "metadata": {},
      "source": [
        "## Plot individual results\nNow let's calculate the average biomarker values per substudy for saline\ndata only. For this exercise, let's specify khe and kbh as the biomarker\nparameters that we are interested in. For each biomarker, we can plot the\navergae biomarker values along with their 95% confidence intervals for each\nstudy group. We can also calculate an average 'benchmark' value across all\nstudy groups for each biomarker, and overlay these on the graphs to see\nwhether the observed values lie within these ranges.\n**red** lines indicate the average benchmark value, while **blue** represents\nthe upper and lower limits of the 95% confidence intervals (CIs) associated\nwith these benchmarks.\n\n"
      ]
    },
    {
      "cell_type": "code",
      "execution_count": null,
      "metadata": {
        "collapsed": false
      },
      "outputs": [],
      "source": [
        "# Customise plot settings\nplt.rcParams['savefig.dpi'] = 300\nplt.rcParams[\"axes.labelsize\"] = 50\nplt.rcParams[\"axes.titlesize\"] = 50\nplt.rcParams[\"axes.labelweight\"] = 'bold'\nplt.rcParams[\"axes.titleweight\"] = 'bold'\nplt.rcParams[\"font.weight\"] = 'bold'\nplt.rc('axes', linewidth=2)\nplt.rc('xtick', labelsize=40)\nplt.rc('ytick', labelsize=40)\nplt.rcParams[\"lines.linewidth\"] = 4\nplt.rcParams['lines.markersize'] = 12\n\n# Create list of biomarkers (parameters) of interest\nparams = ['khe', 'kbh']\n\n# Extract data of interest, i.e., visit 1 data for parameters of interest\nvisitOneData = results.query('parameter in @params and visit==1')\n\n# Get statistical summaries per parameter and study group\nstat_summary = (visitOneData\n                .groupby(['parameter', 'study'])['value']\n                .agg(['mean']))\n\n# Calculate benchmark values per parameter by averaging all study group averages\nbenchmarks = (stat_summary\n              .groupby(['parameter'])['mean']\n              .agg(['mean', 'sem']))\n\n# Calculate the 95% confidence intervals for each parameter benchmark\nbenchmarks['CI95'] = (benchmarks['sem'].mul(1.96))\n\n# Sort dataframes\nvisitOneData_sorted = visitOneData.sort_values(['parameter'], ascending=[False])\nbenchmarks_sorted = benchmarks.sort_values(['parameter'], ascending=[False])\n\n# Plot distributions across all study groups per biomarker of interest\ng = sns.catplot(data=visitOneData_sorted,\n                x='study',\n                y='value',\n                col='parameter',\n                kind='point',\n                capsize=0.2,\n                sharey=False,\n                linestyle='none',\n                height=14,\n                aspect=1.2,\n                color='k',\n                errorbar=('ci', 95))\n\ng.set_titles(\"\") # set custom subplot titles\n\n# Set limits for y-axes\ng.axes[0, 0].set(ylim=([0, 0.05]))\ng.axes[0, 1].set(ylim=([0, 0.006]))\n\nylabels = ['$k_{he}$', '$k_{bh}$'] # define labels for y-axis\n\n# Assign values from benchmarks dataframe to be\n# used as horizontal lines to overlay on plots\nmeans = benchmarks_sorted['mean']\nlower_cis = means - benchmarks_sorted['CI95']\nupper_cis = means + benchmarks_sorted['CI95']\n\n# iterate through subplots to overlay y-labels and axis lines\nfor i in range(len(ylabels)):\n    g.axes[0, i].set_ylabel(f\"{ylabels[i]} [mL/sec/cm3]\")\n    g.axes[0, i].axhline(means.iloc[i], color='blue', ls=':')\n    g.axes[0, i].axhline(lower_cis.iloc[i], color='red', ls='--')\n    g.axes[0, i].axhline(upper_cis.iloc[i], color='red', ls='--')\n\nplt.tight_layout()\nplt.show()\n\n# Choose the last image as a thumbnail for the gallery\n# sphinx_gallery_thumbnail_number = -1"
      ]
    }
  ],
  "metadata": {
    "kernelspec": {
      "display_name": "Python 3",
      "language": "python",
      "name": "python3"
    },
    "language_info": {
      "codemirror_mode": {
        "name": "ipython",
        "version": 3
      },
      "file_extension": ".py",
      "mimetype": "text/x-python",
      "name": "python",
      "nbconvert_exporter": "python",
      "pygments_lexer": "ipython3",
      "version": "3.11.9"
    }
  },
  "nbformat": 4,
  "nbformat_minor": 0
}